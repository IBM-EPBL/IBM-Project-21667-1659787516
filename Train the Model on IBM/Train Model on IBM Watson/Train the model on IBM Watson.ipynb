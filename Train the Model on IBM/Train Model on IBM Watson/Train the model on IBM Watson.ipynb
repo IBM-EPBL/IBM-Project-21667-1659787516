{
 "cells": [
  {
   "cell_type": "markdown",
   "id": "2yeHEdb2qgaH",
   "metadata": {
    "id": "2yeHEdb2qgaH"
   },
   "source": [
    "**Team ID : PNT2022TMID19812**"
   ]
  },
  {
   "cell_type": "markdown",
   "id": "L5Lgwm2Mhopx",
   "metadata": {
    "id": "L5Lgwm2Mhopx"
   },
   "source": [
    "# Data Collection\n",
    "> ## Download the Dataset"
   ]
  },
  {
   "cell_type": "markdown",
   "id": "72sPa5RTiD8c",
   "metadata": {
    "id": "72sPa5RTiD8c"
   },
   "source": [
    "# Image Pre-Processing"
   ]
  },
  {
   "cell_type": "markdown",
   "id": "i0BiCMGviKvE",
   "metadata": {
    "id": "i0BiCMGviKvE"
   },
   "source": [
    "> ## Importing the Necessary Libraries"
   ]
  },
  {
   "cell_type": "code",
   "execution_count": 23,
   "id": "14527ba4",
   "metadata": {},
   "outputs": [
    {
     "data": {
      "text/plain": [
       "'/home/wsuser/work'"
      ]
     },
     "execution_count": 23,
     "metadata": {},
     "output_type": "execute_result"
    }
   ],
   "source": [
    "pwd"
   ]
  },
  {
   "cell_type": "code",
   "execution_count": 24,
   "id": "70622f7d",
   "metadata": {},
   "outputs": [],
   "source": [
    "import warnings\n",
    "warnings.filterwarnings(\"ignore\")"
   ]
  },
  {
   "cell_type": "code",
   "execution_count": 25,
   "id": "dc7dd4b8",
   "metadata": {},
   "outputs": [
    {
     "name": "stdout",
     "output_type": "stream",
     "text": [
      "Requirement already satisfied: imutils in /opt/conda/envs/Python-3.9/lib/python3.9/site-packages (0.5.4)\r\n"
     ]
    }
   ],
   "source": [
    "!pip install imutils"
   ]
  },
  {
   "cell_type": "code",
   "execution_count": 26,
   "id": "f92eae16",
   "metadata": {},
   "outputs": [],
   "source": [
    "import cv2\n",
    "import numpy as np\n",
    "from sklearn.preprocessing import LabelEncoder\n",
    "from sklearn.ensemble import RandomForestClassifier\n",
    "from sklearn.metrics import confusion_matrix\n",
    "from skimage import feature\n",
    "from imutils import paths\n",
    "import os\n",
    "import pickle"
   ]
  },
  {
   "cell_type": "code",
   "execution_count": 27,
   "id": "8e23f733",
   "metadata": {},
   "outputs": [],
   "source": [
    "\n",
    "import os, types\n",
    "import pandas as pd\n",
    "from botocore.client import Config\n",
    "import ibm_boto3\n",
    "\n",
    "def __iter__(self): return 0\n",
    "\n",
    "# @hidden_cell\n",
    "# The following code accesses a file in your IBM Cloud Object Storage. It includes your credentials.\n",
    "# You might want to remove those credentials before you share the notebook.\n",
    "cos_client = ibm_boto3.client(service_name='s3',\n",
    "    ibm_api_key_id='dNeV5MRmdJRwKxgejGnUUzCJTj-ljE5VYTYfn3KcD614',\n",
    "    ibm_auth_endpoint=\"https://iam.cloud.ibm.com/oidc/token\",\n",
    "    config=Config(signature_version='oauth'),\n",
    "    endpoint_url='https://s3.private.us.cloud-object-storage.appdomain.cloud')\n",
    "\n",
    "bucket = 'detectingparkinsons-donotdelete-pr-ug8i4qaj8fbgc4'\n",
    "object_key = 'dataset1.zip'\n",
    "\n",
    "streaming_body_1 = cos_client.get_object(Bucket=bucket, Key=object_key)['Body']\n",
    "\n",
    "# Your data file was loaded into a botocore.response.StreamingBody object.\n",
    "# Please read the documentation of ibm_boto3 and pandas to learn more about the possibilities to load the data.\n",
    "# ibm_boto3 documentation: https://ibm.github.io/ibm-cos-sdk-python/\n",
    "# pandas documentation: http://pandas.pydata.org/\n"
   ]
  },
  {
   "cell_type": "code",
   "execution_count": 28,
   "id": "16412a9d",
   "metadata": {},
   "outputs": [],
   "source": [
    "from io import BytesIO\n",
    "import zipfile\n",
    "unzip = zipfile.ZipFile(BytesIO(streaming_body_1.read()),'r')\n",
    "file_paths = unzip.namelist()\n",
    "for path in file_paths:\n",
    "    unzip.extract(path)"
   ]
  },
  {
   "cell_type": "code",
   "execution_count": 29,
   "id": "664ba24c",
   "metadata": {},
   "outputs": [
    {
     "data": {
      "text/plain": [
       "'/home/wsuser/work'"
      ]
     },
     "execution_count": 29,
     "metadata": {},
     "output_type": "execute_result"
    }
   ],
   "source": [
    "pwd"
   ]
  },
  {
   "cell_type": "code",
   "execution_count": 31,
   "id": "57ecc781",
   "metadata": {},
   "outputs": [],
   "source": [
    "def quantify_image(image):\n",
    "    features = feature.hog(image, \n",
    "                           orientations=9, \n",
    "                           pixels_per_cell=(5,5), \n",
    "                           cells_per_block=(2,2), \n",
    "                           transform_sqrt=True, \n",
    "                           block_norm=\"L1\")\n",
    "    return features"
   ]
  },
  {
   "cell_type": "code",
   "execution_count": 32,
   "id": "09b12889",
   "metadata": {},
   "outputs": [],
   "source": [
    "def load_split(path):\n",
    "    path_images = list(paths.list_images(path))\n",
    "    data=[]\n",
    "    labels=[]\n",
    "\n",
    "    for path_image in path_images:\n",
    "        label = path_image.split(os.path.sep)[-2]\n",
    "        image = cv2.imread(path_image)\n",
    "        image = cv2.cvtColor(image,cv2.COLOR_BGR2GRAY)\n",
    "        image = cv2.resize(image, (200,200))\n",
    "        image = cv2.threshold(image,0,225,cv2.THRESH_BINARY_INV | cv2.THRESH_OTSU)[1]\n",
    "\n",
    "        features = quantify_image(image)\n",
    "        data.append(features)\n",
    "        labels.append(label)\n",
    "\n",
    "    return (np.array(data), np.array(labels))"
   ]
  },
  {
   "cell_type": "code",
   "execution_count": 33,
   "id": "19fe86c5",
   "metadata": {},
   "outputs": [],
   "source": [
    "path_training_data = r\"/home/wsuser/work/dataset/spiral/training\"\n",
    "path_testing_data = r\"/home/wsuser/work/dataset/spiral/testing\""
   ]
  },
  {
   "cell_type": "code",
   "execution_count": 34,
   "id": "d51c7ddf",
   "metadata": {},
   "outputs": [],
   "source": [
    "(x_train, y_train) = load_split(path_training_data)\n",
    "(x_test, y_test) = load_split(path_testing_data)"
   ]
  },
  {
   "cell_type": "code",
   "execution_count": 35,
   "id": "8515a691",
   "metadata": {},
   "outputs": [
    {
     "name": "stdout",
     "output_type": "stream",
     "text": [
      "(72, 54756) (72,)\n"
     ]
    }
   ],
   "source": [
    "label_encoder = LabelEncoder()\n",
    "y_train = label_encoder.fit_transform(y_train)\n",
    "y_test = label_encoder.transform(y_test)\n",
    "print(x_train.shape, y_train.shape)\n",
    "# 0:healthy,1:Parkinson"
   ]
  },
  {
   "cell_type": "code",
   "execution_count": 36,
   "id": "1e967e77",
   "metadata": {},
   "outputs": [
    {
     "data": {
      "text/plain": [
       "RandomForestClassifier()"
      ]
     },
     "execution_count": 36,
     "metadata": {},
     "output_type": "execute_result"
    }
   ],
   "source": [
    "model = RandomForestClassifier(n_estimators=100)\n",
    "model.fit(x_train, y_train)"
   ]
  },
  {
   "cell_type": "code",
   "execution_count": 37,
   "id": "f3ef1c13",
   "metadata": {},
   "outputs": [],
   "source": [
    "testingPaths = list(paths.list_images(path_testing_data))\n",
    "idxs = np.arange(0, len(testingPaths))\n",
    "idxs = np.random.choice(idxs, size=(25,), replace=False) \n",
    "images = []"
   ]
  },
  {
   "cell_type": "code",
   "execution_count": 38,
   "id": "5849d2bf",
   "metadata": {},
   "outputs": [],
   "source": [
    "for i in idxs:\n",
    "    # loading the testing image, clone it, and resize it \n",
    "    image = cv2.imread(testingPaths[i]) \n",
    "    output = image. copy() \n",
    "    output = cv2. resize(output, (128, 128))\n",
    "    \n",
    "    # pre-processing the image \n",
    "    image = cv2.cvtColor(image, cv2.COLOR_BGR2GRAY) \n",
    "    image = cv2.resize(image, (200, 200))\n",
    "    image = cv2.threshold(image, 0, 255, cv2.THRESH_BINARY_INV | cv2.THRESH_OTSU) [1]\n",
    "    \n",
    "    # quantify the image and make predictions based on the extracted \n",
    "    # features using the last trained Random Forest \n",
    "    features = quantify_image(image) \n",
    "    preds = model.predict([features])\n",
    "\n",
    "    label = label_encoder.inverse_transform(preds)[0]\n",
    "\n",
    "    # draw the colored class label on the output image and add it to the set of output images \n",
    "    if label == \"healthy\":\n",
    "        color = (0, 255, 0)  \n",
    "    else:\n",
    "        color = (0, 0, 255) \n",
    "    cv2.putText(output, label, (3, 20), cv2.FONT_HERSHEY_SIMPLEX, 0.5, color, 2) \n",
    "    images.append(output)"
   ]
  },
  {
   "cell_type": "code",
   "execution_count": 39,
   "id": "a7ea8604",
   "metadata": {},
   "outputs": [
    {
     "name": "stdout",
     "output_type": "stream",
     "text": [
      "[13  2  6  9]\n",
      "0.7333333333333333\n"
     ]
    }
   ],
   "source": [
    "predictions = model.predict(x_test)    # predictions on the testing data \n",
    "\n",
    "cm = confusion_matrix(y_test, predictions).flatten ()    # computing the confusion matrix\n",
    "print(cm) \n",
    "(tn, fp, fn, tp) = cm \n",
    "\n",
    "accuracy = (tp + tn) / float(cm.sum())     # computing the accuracy\n",
    "print(accuracy)"
   ]
  },
  {
   "cell_type": "code",
   "execution_count": 40,
   "id": "94a3a9d0",
   "metadata": {},
   "outputs": [],
   "source": [
    "pickle.dump(model,open('parkinson.pkl', 'wb'))"
   ]
  },
  {
   "cell_type": "code",
   "execution_count": 41,
   "id": "49f1faf8",
   "metadata": {},
   "outputs": [
    {
     "name": "stdout",
     "output_type": "stream",
     "text": [
      "parkinson.pkl\r\n"
     ]
    }
   ],
   "source": [
    "!tar -zcvf parkinsonsmodel.tgz parkinson.pkl"
   ]
  },
  {
   "cell_type": "code",
   "execution_count": 42,
   "id": "f0a3105b",
   "metadata": {},
   "outputs": [
    {
     "name": "stdout",
     "output_type": "stream",
     "text": [
      "\u001b[0m\u001b[01;34mdataset\u001b[0m/  parkinson.pkl  parkinsonsmodel.tgz\r\n"
     ]
    }
   ],
   "source": [
    "ls\n"
   ]
  },
  {
   "cell_type": "code",
   "execution_count": 43,
   "id": "d7ef1034",
   "metadata": {},
   "outputs": [
    {
     "name": "stdout",
     "output_type": "stream",
     "text": [
      "Collecting watson-machine-learning-client\n",
      "  Downloading watson_machine_learning_client-1.0.391-py3-none-any.whl (538 kB)\n",
      "\u001b[K     |████████████████████████████████| 538 kB 22.4 MB/s eta 0:00:01\n",
      "\u001b[?25hRequirement already satisfied: certifi in /opt/conda/envs/Python-3.9/lib/python3.9/site-packages (from watson-machine-learning-client) (2022.9.24)\n",
      "Requirement already satisfied: lomond in /opt/conda/envs/Python-3.9/lib/python3.9/site-packages (from watson-machine-learning-client) (0.3.3)\n",
      "Requirement already satisfied: boto3 in /opt/conda/envs/Python-3.9/lib/python3.9/site-packages (from watson-machine-learning-client) (1.18.21)\n",
      "Requirement already satisfied: tqdm in /opt/conda/envs/Python-3.9/lib/python3.9/site-packages (from watson-machine-learning-client) (4.62.3)\n",
      "Requirement already satisfied: requests in /opt/conda/envs/Python-3.9/lib/python3.9/site-packages (from watson-machine-learning-client) (2.26.0)\n",
      "Requirement already satisfied: pandas in /opt/conda/envs/Python-3.9/lib/python3.9/site-packages (from watson-machine-learning-client) (1.3.4)\n",
      "Requirement already satisfied: tabulate in /opt/conda/envs/Python-3.9/lib/python3.9/site-packages (from watson-machine-learning-client) (0.8.9)\n",
      "Requirement already satisfied: urllib3 in /opt/conda/envs/Python-3.9/lib/python3.9/site-packages (from watson-machine-learning-client) (1.26.7)\n",
      "Requirement already satisfied: ibm-cos-sdk in /opt/conda/envs/Python-3.9/lib/python3.9/site-packages (from watson-machine-learning-client) (2.11.0)\n",
      "Requirement already satisfied: s3transfer<0.6.0,>=0.5.0 in /opt/conda/envs/Python-3.9/lib/python3.9/site-packages (from boto3->watson-machine-learning-client) (0.5.0)\n",
      "Requirement already satisfied: jmespath<1.0.0,>=0.7.1 in /opt/conda/envs/Python-3.9/lib/python3.9/site-packages (from boto3->watson-machine-learning-client) (0.10.0)\n",
      "Requirement already satisfied: botocore<1.22.0,>=1.21.21 in /opt/conda/envs/Python-3.9/lib/python3.9/site-packages (from boto3->watson-machine-learning-client) (1.21.41)\n",
      "Requirement already satisfied: python-dateutil<3.0.0,>=2.1 in /opt/conda/envs/Python-3.9/lib/python3.9/site-packages (from botocore<1.22.0,>=1.21.21->boto3->watson-machine-learning-client) (2.8.2)\n",
      "Requirement already satisfied: six>=1.5 in /opt/conda/envs/Python-3.9/lib/python3.9/site-packages (from python-dateutil<3.0.0,>=2.1->botocore<1.22.0,>=1.21.21->boto3->watson-machine-learning-client) (1.15.0)\n",
      "Requirement already satisfied: ibm-cos-sdk-s3transfer==2.11.0 in /opt/conda/envs/Python-3.9/lib/python3.9/site-packages (from ibm-cos-sdk->watson-machine-learning-client) (2.11.0)\n",
      "Requirement already satisfied: ibm-cos-sdk-core==2.11.0 in /opt/conda/envs/Python-3.9/lib/python3.9/site-packages (from ibm-cos-sdk->watson-machine-learning-client) (2.11.0)\n",
      "Requirement already satisfied: idna<4,>=2.5 in /opt/conda/envs/Python-3.9/lib/python3.9/site-packages (from requests->watson-machine-learning-client) (3.3)\n",
      "Requirement already satisfied: charset-normalizer~=2.0.0 in /opt/conda/envs/Python-3.9/lib/python3.9/site-packages (from requests->watson-machine-learning-client) (2.0.4)\n",
      "Requirement already satisfied: pytz>=2017.3 in /opt/conda/envs/Python-3.9/lib/python3.9/site-packages (from pandas->watson-machine-learning-client) (2021.3)\n",
      "Requirement already satisfied: numpy>=1.17.3 in /opt/conda/envs/Python-3.9/lib/python3.9/site-packages (from pandas->watson-machine-learning-client) (1.20.3)\n",
      "Installing collected packages: watson-machine-learning-client\n",
      "Successfully installed watson-machine-learning-client-1.0.391\n"
     ]
    }
   ],
   "source": [
    "!pip install watson-machine-learning-client --upgrade"
   ]
  },
  {
   "cell_type": "code",
   "execution_count": 44,
   "id": "dbfa92a7",
   "metadata": {},
   "outputs": [],
   "source": [
    "from ibm_watson_machine_learning import APIClient\n",
    "wml_credentials = {\n",
    "                    \"url\" : \"https://us-south.ml.cloud.ibm.com\",\n",
    "                    \"apikey\" : \"zrIdnGwVl-xqSby-lsjUAg0o3x6_3OOyX6z1DyiTGrtC\"\n",
    "                    }\n",
    "client = APIClient(wml_credentials)"
   ]
  },
  {
   "cell_type": "code",
   "execution_count": 45,
   "id": "7c76e116",
   "metadata": {},
   "outputs": [],
   "source": [
    "def guid_from_space_name(client,space_name):\n",
    "    space = client.spaces.get_details()\n",
    "    print(space)\n",
    "    return (next(item for item in space['resources'] if item['entity']['name']==space_name)['metadata']['id'])"
   ]
  },
  {
   "cell_type": "code",
   "execution_count": 46,
   "id": "a03be5ad",
   "metadata": {},
   "outputs": [
    {
     "name": "stdout",
     "output_type": "stream",
     "text": [
      "{'resources': [{'entity': {'compute': [{'crn': 'crn:v1:bluemix:public:pm-20:us-south:a/709afe74debb48c39acbabf89a4228e0:46dfbfd8-b175-44c7-8273-0c73436678ac::', 'guid': '46dfbfd8-b175-44c7-8273-0c73436678ac', 'name': 'Watson Machine Learning-h8', 'type': 'machine_learning'}], 'description': '', 'name': 'Detecting_Parkinsons', 'scope': {'bss_account_id': '709afe74debb48c39acbabf89a4228e0'}, 'stage': {'production': False}, 'status': {'state': 'active'}, 'storage': {'properties': {'bucket_name': '33062b9e-cf2f-4875-b9b0-10cc76c3c839', 'bucket_region': 'us-south', 'credentials': {'admin': {'access_key_id': '28e76cff890f48178c01a57e09a2720f', 'api_key': 'mbqfC_f3r1XUXqT1CYmzdw-FeMdFovzh4YQcv7zrrLvY', 'secret_access_key': '177bb44c154cd26f35843194fb729cfac39c7eb164d457a8', 'service_id': 'ServiceId-bb20082e-c409-486e-b6f8-06e43d68b316'}, 'editor': {'access_key_id': 'a178683eaf524fdf99cbd81ea8114818', 'api_key': 'C3Z_DNrSm1TqPwiU51pssgLVh4n0z5Hmm9gwZYSL4QvK', 'resource_key_crn': 'crn:v1:bluemix:public:cloud-object-storage:global:a/709afe74debb48c39acbabf89a4228e0:0c9afd9a-4a47-46c8-ae8e-2a95b257a347::', 'secret_access_key': '8626e5513fb50a30357c30003e0dcef907ce079dd2cc5bf8', 'service_id': 'ServiceId-cb3ff403-53d2-445b-9992-bfeb554f42ef'}, 'viewer': {'access_key_id': '4b90c60e36b8418eb8736cebec4005d9', 'api_key': 'L1y1OJSxGIQo6CfR-x6XGvML72yVQ7WRe7RWKAR6CaRn', 'resource_key_crn': 'crn:v1:bluemix:public:cloud-object-storage:global:a/709afe74debb48c39acbabf89a4228e0:0c9afd9a-4a47-46c8-ae8e-2a95b257a347::', 'secret_access_key': '4590986aff7adaf73bc75fef9e99d3ebb46ee5b67fae4469', 'service_id': 'ServiceId-a7504613-fb6e-4037-a467-aa27fdf979b9'}}, 'endpoint_url': 'https://s3.us-south.cloud-object-storage.appdomain.cloud', 'guid': '0c9afd9a-4a47-46c8-ae8e-2a95b257a347', 'resource_crn': 'crn:v1:bluemix:public:cloud-object-storage:global:a/709afe74debb48c39acbabf89a4228e0:0c9afd9a-4a47-46c8-ae8e-2a95b257a347::'}, 'type': 'bmcos_object_storage'}}, 'metadata': {'created_at': '2022-11-17T12:32:55.396Z', 'creator_id': 'IBMid-550006AVUP', 'id': '3621ca68-a995-44c3-aa51-d689f869eee7', 'updated_at': '2022-11-17T12:50:34.114Z', 'url': '/v2/spaces/3621ca68-a995-44c3-aa51-d689f869eee7'}}]}\n",
      "Space UID = 3621ca68-a995-44c3-aa51-d689f869eee7\n"
     ]
    }
   ],
   "source": [
    "space_uid = guid_from_space_name(client,'Detecting_Parkinsons')\n",
    "print('Space UID = ' + space_uid)"
   ]
  },
  {
   "cell_type": "code",
   "execution_count": 47,
   "id": "2b5069a7",
   "metadata": {},
   "outputs": [
    {
     "data": {
      "text/plain": [
       "'SUCCESS'"
      ]
     },
     "execution_count": 47,
     "metadata": {},
     "output_type": "execute_result"
    }
   ],
   "source": [
    "client.set.default_space(space_uid)"
   ]
  },
  {
   "cell_type": "code",
   "execution_count": 48,
   "id": "fe333427",
   "metadata": {},
   "outputs": [
    {
     "name": "stdout",
     "output_type": "stream",
     "text": [
      "-----------------------------  ------------------------------------  ----\n",
      "NAME                           ASSET_ID                              TYPE\n",
      "default_py3.6                  0062b8c9-8b7d-44a0-a9b9-46c416adcbd9  base\n",
      "kernel-spark3.2-scala2.12      020d69ce-7ac1-5e68-ac1a-31189867356a  base\n",
      "pytorch-onnx_1.3-py3.7-edt     069ea134-3346-5748-b513-49120e15d288  base\n",
      "scikit-learn_0.20-py3.6        09c5a1d0-9c1e-4473-a344-eb7b665ff687  base\n",
      "spark-mllib_3.0-scala_2.12     09f4cff0-90a7-5899-b9ed-1ef348aebdee  base\n",
      "pytorch-onnx_rt22.1-py3.9      0b848dd4-e681-5599-be41-b5f6fccc6471  base\n",
      "ai-function_0.1-py3.6          0cdb0f1e-5376-4f4d-92dd-da3b69aa9bda  base\n",
      "shiny-r3.6                     0e6e79df-875e-4f24-8ae9-62dcc2148306  base\n",
      "tensorflow_2.4-py3.7-horovod   1092590a-307d-563d-9b62-4eb7d64b3f22  base\n",
      "pytorch_1.1-py3.6              10ac12d6-6b30-4ccd-8392-3e922c096a92  base\n",
      "tensorflow_1.15-py3.6-ddl      111e41b3-de2d-5422-a4d6-bf776828c4b7  base\n",
      "autoai-kb_rt22.2-py3.10        125b6d9a-5b1f-5e8d-972a-b251688ccf40  base\n",
      "runtime-22.1-py3.9             12b83a17-24d8-5082-900f-0ab31fbfd3cb  base\n",
      "scikit-learn_0.22-py3.6        154010fa-5b3b-4ac1-82af-4d5ee5abbc85  base\n",
      "default_r3.6                   1b70aec3-ab34-4b87-8aa0-a4a3c8296a36  base\n",
      "pytorch-onnx_1.3-py3.6         1bc6029a-cc97-56da-b8e0-39c3880dbbe7  base\n",
      "kernel-spark3.3-r3.6           1c9e5454-f216-59dd-a20e-474a5cdf5988  base\n",
      "pytorch-onnx_rt22.1-py3.9-edt  1d362186-7ad5-5b59-8b6c-9d0880bde37f  base\n",
      "tensorflow_2.1-py3.6           1eb25b84-d6ed-5dde-b6a5-3fbdf1665666  base\n",
      "spark-mllib_3.2                20047f72-0a98-58c7-9ff5-a77b012eb8f5  base\n",
      "tensorflow_2.4-py3.8-horovod   217c16f6-178f-56bf-824a-b19f20564c49  base\n",
      "runtime-22.1-py3.9-cuda        26215f05-08c3-5a41-a1b0-da66306ce658  base\n",
      "do_py3.8                       295addb5-9ef9-547e-9bf4-92ae3563e720  base\n",
      "autoai-ts_3.8-py3.8            2aa0c932-798f-5ae9-abd6-15e0c2402fb5  base\n",
      "tensorflow_1.15-py3.6          2b73a275-7cbf-420b-a912-eae7f436e0bc  base\n",
      "kernel-spark3.3-py3.9          2b7961e2-e3b1-5a8c-a491-482c8368839a  base\n",
      "pytorch_1.2-py3.6              2c8ef57d-2687-4b7d-acce-01f94976dac1  base\n",
      "spark-mllib_2.3                2e51f700-bca0-4b0d-88dc-5c6791338875  base\n",
      "pytorch-onnx_1.1-py3.6-edt     32983cea-3f32-4400-8965-dde874a8d67e  base\n",
      "spark-mllib_3.0-py37           36507ebe-8770-55ba-ab2a-eafe787600e9  base\n",
      "spark-mllib_2.4                390d21f8-e58b-4fac-9c55-d7ceda621326  base\n",
      "autoai-ts_rt22.2-py3.10        396b2e83-0953-5b86-9a55-7ce1628a406f  base\n",
      "xgboost_0.82-py3.6             39e31acd-5f30-41dc-ae44-60233c80306e  base\n",
      "pytorch-onnx_1.2-py3.6-edt     40589d0e-7019-4e28-8daa-fb03b6f4fe12  base\n",
      "pytorch-onnx_rt22.2-py3.10     40e73f55-783a-5535-b3fa-0c8b94291431  base\n",
      "default_r36py38                41c247d3-45f8-5a71-b065-8580229facf0  base\n",
      "autoai-ts_rt22.1-py3.9         4269d26e-07ba-5d40-8f66-2d495b0c71f7  base\n",
      "autoai-obm_3.0                 42b92e18-d9ab-567f-988a-4240ba1ed5f7  base\n",
      "pmml-3.0_4.3                   493bcb95-16f1-5bc5-bee8-81b8af80e9c7  base\n",
      "spark-mllib_2.4-r_3.6          49403dff-92e9-4c87-a3d7-a42d0021c095  base\n",
      "xgboost_0.90-py3.6             4ff8d6c2-1343-4c18-85e1-689c965304d3  base\n",
      "pytorch-onnx_1.1-py3.6         50f95b2a-bc16-43bb-bc94-b0bed208c60b  base\n",
      "autoai-ts_3.9-py3.8            52c57136-80fa-572e-8728-a5e7cbb42cde  base\n",
      "spark-mllib_2.4-scala_2.11     55a70f99-7320-4be5-9fb9-9edb5a443af5  base\n",
      "spark-mllib_3.0                5c1b0ca2-4977-5c2e-9439-ffd44ea8ffe9  base\n",
      "autoai-obm_2.0                 5c2e37fa-80b8-5e77-840f-d912469614ee  base\n",
      "spss-modeler_18.1              5c3cad7e-507f-4b2a-a9a3-ab53a21dee8b  base\n",
      "cuda-py3.8                     5d3232bf-c86b-5df4-a2cd-7bb870a1cd4e  base\n",
      "autoai-kb_3.1-py3.7            632d4b22-10aa-5180-88f0-f52dfb6444d7  base\n",
      "pytorch-onnx_1.7-py3.8         634d3cdc-b562-5bf9-a2d4-ea90a478456b  base\n",
      "-----------------------------  ------------------------------------  ----\n",
      "Note: Only first 50 records were displayed. To display more use 'limit' parameter.\n"
     ]
    }
   ],
   "source": [
    "client.software_specifications.list()"
   ]
  },
  {
   "cell_type": "code",
   "execution_count": 56,
   "id": "9237ee42",
   "metadata": {},
   "outputs": [
    {
     "data": {
      "text/plain": [
       "'0062b8c9-8b7d-44a0-a9b9-46c416adcbd9'"
      ]
     },
     "execution_count": 56,
     "metadata": {},
     "output_type": "execute_result"
    }
   ],
   "source": [
    "software_spec_uid=client.software_specifications.get_uid_by_name(\"default_py3.6\") \n",
    "software_spec_uid"
   ]
  },
  {
   "cell_type": "code",
   "execution_count": null,
   "id": "c2162682",
   "metadata": {},
   "outputs": [],
   "source": [
    "model_details = client.repository.store_model(model='parkinsonsmodel.tgz',meta_props={\n",
    "client.repository.ModelMetaNames.NAME: \"parkinson\", \n",
    "client.repository.ModelMetaNames.TYPE: \"default_py3.6\", \n",
    "client.repository.ModelMetaNames.SOFTWARE_SPEC_UID: software_spec_uid})\n",
    "model_id = client.repository.get_model_uid(model_details)"
   ]
  },
  {
   "cell_type": "code",
   "execution_count": 57,
   "id": "ddbe8752",
   "metadata": {},
   "outputs": [],
   "source": [
    "(x_train, y_train) = load_split(path_training_data)\n",
    "(x_test, y_test) = load_split(path_testing_data)"
   ]
  },
  {
   "cell_type": "code",
   "execution_count": 58,
   "id": "eb440731",
   "metadata": {},
   "outputs": [
    {
     "name": "stdout",
     "output_type": "stream",
     "text": [
      "(72, 54756) (72,)\n"
     ]
    }
   ],
   "source": [
    "label_encoder = LabelEncoder()\n",
    "y_train = label_encoder.fit_transform(y_train)\n",
    "y_test = label_encoder.transform(y_test)\n",
    "print(x_train.shape, y_train.shape)\n",
    "# 0:healthy,1:Parkinson"
   ]
  },
  {
   "cell_type": "code",
   "execution_count": 59,
   "id": "25b6dfa7",
   "metadata": {},
   "outputs": [
    {
     "data": {
      "text/plain": [
       "RandomForestClassifier()"
      ]
     },
     "execution_count": 59,
     "metadata": {},
     "output_type": "execute_result"
    }
   ],
   "source": [
    "model = RandomForestClassifier(n_estimators=100)\n",
    "model.fit(x_train, y_train)"
   ]
  },
  {
   "cell_type": "code",
   "execution_count": 60,
   "id": "b5a100e9",
   "metadata": {},
   "outputs": [],
   "source": [
    "testingPaths = list(paths.list_images(path_testing_data))\n",
    "idxs = np.arange(0, len(testingPaths))\n",
    "idxs = np.random.choice(idxs, size=(25,), replace=False) \n",
    "images = []"
   ]
  },
  {
   "cell_type": "code",
   "execution_count": 61,
   "id": "cf47774c",
   "metadata": {},
   "outputs": [],
   "source": [
    "for i in idxs:\n",
    "    # loading the testing image, clone it, and resize it \n",
    "    image = cv2.imread(testingPaths[i]) \n",
    "    output = image. copy() \n",
    "    output = cv2. resize(output, (128, 128))\n",
    "    \n",
    "    # pre-processing the image \n",
    "    image = cv2.cvtColor(image, cv2.COLOR_BGR2GRAY) \n",
    "    image = cv2.resize(image, (200, 200))\n",
    "    image = cv2.threshold(image, 0, 255, cv2.THRESH_BINARY_INV | cv2.THRESH_OTSU) [1]\n",
    "    \n",
    "    # quantify the image and make predictions based on the extracted \n",
    "    # features using the last trained Random Forest \n",
    "    features = quantify_image(image) \n",
    "    preds = model.predict([features])\n",
    "\n",
    "    label = label_encoder.inverse_transform(preds)[0]\n",
    "\n",
    "    # draw the colored class label on the output image and add it to the set of output images \n",
    "    if label == \"healthy\":\n",
    "        color = (0, 255, 0)  \n",
    "    else:\n",
    "        color = (0, 0, 255) \n",
    "    cv2.putText(output, label, (3, 20), cv2.FONT_HERSHEY_SIMPLEX, 0.5, color, 2) \n",
    "    images.append(output)\n"
   ]
  },
  {
   "cell_type": "code",
   "execution_count": 62,
   "id": "077675c5",
   "metadata": {},
   "outputs": [
    {
     "name": "stdout",
     "output_type": "stream",
     "text": [
      "[12  3  4 11]\n",
      "0.7666666666666667\n"
     ]
    }
   ],
   "source": [
    "predictions = model.predict(x_test)    # predictions on the testing data \n",
    "\n",
    "cm = confusion_matrix(y_test, predictions).flatten ()    # computing the confusion matrix\n",
    "print(cm) \n",
    "(tn, fp, fn, tp) = cm \n",
    "\n",
    "accuracy = (tp + tn) / float(cm.sum())     # computing the accuracy\n",
    "print(accuracy)"
   ]
  },
  {
   "cell_type": "markdown",
   "id": "0eda8946",
   "metadata": {},
   "source": []
  },
  {
   "cell_type": "code",
   "execution_count": 63,
   "id": "b8590a02",
   "metadata": {},
   "outputs": [],
   "source": [
    "pickle.dump(model,open('parkinson_w.pkl', 'wb'))"
   ]
  },
  {
   "cell_type": "code",
   "execution_count": 64,
   "id": "124412fe",
   "metadata": {},
   "outputs": [
    {
     "name": "stdout",
     "output_type": "stream",
     "text": [
      "parkinson_w.pkl\r\n"
     ]
    }
   ],
   "source": [
    "!tar -zcvf parkinsons-detection-model_s.tgz parkinson_w.pkl"
   ]
  },
  {
   "cell_type": "code",
   "execution_count": 65,
   "id": "565ab27d",
   "metadata": {},
   "outputs": [
    {
     "name": "stdout",
     "output_type": "stream",
     "text": [
      "\u001b[0m\u001b[01;34mdataset\u001b[0m/       parkinsons-detection-model_s.tgz  parkinson_w.pkl\r\n",
      "parkinson.pkl  parkinsonsmodel.tgz\r\n"
     ]
    }
   ],
   "source": [
    "ls"
   ]
  },
  {
   "cell_type": "code",
   "execution_count": null,
   "id": "f8296bda",
   "metadata": {},
   "outputs": [],
   "source": []
  }
 ],
 "metadata": {
  "colab": {
   "provenance": []
  },
  "kernelspec": {
   "display_name": "Python 3.9",
   "language": "python",
   "name": "python3"
  },
  "language_info": {
   "codemirror_mode": {
    "name": "ipython",
    "version": 3
   },
   "file_extension": ".py",
   "mimetype": "text/x-python",
   "name": "python",
   "nbconvert_exporter": "python",
   "pygments_lexer": "ipython3",
   "version": "3.9.13"
  },
  "vscode": {
   "interpreter": {
    "hash": "ef742790665f9537ebfc2b343e1d9ba8392f1061a99d7af0ccdf091d880fcb5a"
   }
  }
 },
 "nbformat": 4,
 "nbformat_minor": 5
}
